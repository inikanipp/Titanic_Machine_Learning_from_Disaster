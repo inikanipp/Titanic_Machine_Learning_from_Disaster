{
  "nbformat": 4,
  "nbformat_minor": 0,
  "metadata": {
    "colab": {
      "provenance": [],
      "authorship_tag": "ABX9TyNFCWbzIVxp3ajmRVecqVXg",
      "include_colab_link": true
    },
    "kernelspec": {
      "name": "python3",
      "display_name": "Python 3"
    },
    "language_info": {
      "name": "python"
    }
  },
  "cells": [
    {
      "cell_type": "markdown",
      "metadata": {
        "id": "view-in-github",
        "colab_type": "text"
      },
      "source": [
        "<a href=\"https://colab.research.google.com/github/inikanipp/Titanic_Machine_Learning_from_Disaster/blob/main/project/file1.ipynb\" target=\"_parent\"><img src=\"https://colab.research.google.com/assets/colab-badge.svg\" alt=\"Open In Colab\"/></a>"
      ]
    },
    {
      "cell_type": "code",
      "execution_count": 40,
      "metadata": {
        "id": "HIRZnUZrOHYE",
        "colab": {
          "base_uri": "https://localhost:8080/"
        },
        "outputId": "5bc0c51c-1411-418a-a8b8-a9e26ab405f0"
      },
      "outputs": [
        {
          "output_type": "stream",
          "name": "stdout",
          "text": [
            "PassengerId      0\n",
            "Survived         0\n",
            "Pclass           0\n",
            "Name             0\n",
            "Sex              0\n",
            "Age            177\n",
            "SibSp            0\n",
            "Parch            0\n",
            "Ticket           0\n",
            "Fare             0\n",
            "Cabin          687\n",
            "Embarked         2\n",
            "dtype: int64\n",
            "% of women who survived: 0.7420382165605095\n",
            "% of men who survived: 0.18890814558058924\n",
            "[[266   0]\n",
            " [  3 149]]\n",
            "0.992822966507177\n"
          ]
        },
        {
          "output_type": "stream",
          "name": "stderr",
          "text": [
            "/usr/local/lib/python3.11/dist-packages/sklearn/base.py:1389: DataConversionWarning: A column-vector y was passed when a 1d array was expected. Please change the shape of y to (n_samples,), for example using ravel().\n",
            "  return fit_method(estimator, *args, **kwargs)\n"
          ]
        }
      ],
      "source": [
        "import pandas as pd\n",
        "import numpy as np\n",
        "\n",
        "# read dataset\n",
        "data_train = pd.read_csv('train.csv')\n",
        "data_test = pd.read_csv('test.csv')\n",
        "data_check = pd.read_csv('gender_submission.csv')\n",
        "\n",
        "\n",
        "print(data_train.isnull().sum())\n",
        "\n",
        "female = data_train.loc[data_train[\"Sex\"] == \"female\", \"Survived\"]\n",
        "rate_female = sum(female)/len(female)\n",
        "\n",
        "print(\"% of women who survived:\", rate_female)\n",
        "\n",
        "male = data_train.loc[data_train[\"Sex\"] == \"male\", \"Survived\"]\n",
        "rate_male = sum(male)/len(male)\n",
        "\n",
        "print(\"% of men who survived:\", rate_male)\n",
        "features = [\"Pclass\", \"Sex\", \"SibSp\", \"Parch\"]\n",
        "X = pd.get_dummies(data_train[features])\n",
        "X_test = pd.get_dummies(data_test[features])\n",
        "y = data_train.loc[:, [\"Survived\"]].values\n",
        "y_check = data_check.loc[:, [\"Survived\"]].values\n",
        "\n",
        "# print(X)\n",
        "\n",
        "from sklearn.ensemble import RandomForestClassifier\n",
        "classifier = RandomForestClassifier(n_estimators = 10, max_depth=2, random_state = 42)\n",
        "classifier.fit(X, y)\n",
        "\n",
        "y_pred = classifier.predict(X_test)\n",
        "\n",
        "from sklearn.metrics import confusion_matrix, accuracy_score\n",
        "\n",
        "cm =  confusion_matrix(y_check, y_pred)\n",
        "print(cm)\n",
        "\n",
        "ac = accuracy_score(y_check, y_pred)\n",
        "print(ac)\n"
      ]
    },
    {
      "cell_type": "code",
      "source": [],
      "metadata": {
        "id": "esAESw30PgtI"
      },
      "execution_count": null,
      "outputs": []
    }
  ]
}
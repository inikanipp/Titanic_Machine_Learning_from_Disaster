{
  "nbformat": 4,
  "nbformat_minor": 0,
  "metadata": {
    "colab": {
      "provenance": [],
      "authorship_tag": "ABX9TyM59+5MCuPD1SZKXwYh+ov5",
      "include_colab_link": true
    },
    "kernelspec": {
      "name": "python3",
      "display_name": "Python 3"
    },
    "language_info": {
      "name": "python"
    }
  },
  "cells": [
    {
      "cell_type": "markdown",
      "metadata": {
        "id": "view-in-github",
        "colab_type": "text"
      },
      "source": [
        "<a href=\"https://colab.research.google.com/github/inikanipp/Titanic_Machine_Learning_from_Disaster/blob/main/project/file1.ipynb\" target=\"_parent\"><img src=\"https://colab.research.google.com/assets/colab-badge.svg\" alt=\"Open In Colab\"/></a>"
      ]
    },
    {
      "cell_type": "code",
      "execution_count": 36,
      "metadata": {
        "id": "HIRZnUZrOHYE",
        "colab": {
          "base_uri": "https://localhost:8080/"
        },
        "outputId": "438db23e-619a-418c-d494-c13d8a3bbb92"
      },
      "outputs": [
        {
          "output_type": "stream",
          "name": "stdout",
          "text": [
            "% of women who survived: 0.7420382165605095\n"
          ]
        }
      ],
      "source": [
        "import pandas as pd\n",
        "import numpy as np\n",
        "\n",
        "# read dataset\n",
        "df = pd.read_csv('train.csv')\n",
        "# y = df['Survived'].values\n",
        "# # df = df.drop('Survived', axis = 1)\n",
        "# x = df.iloc[:,:].values\n",
        "\n",
        "# check index age column\n",
        "# indexAge = df.columns.get_loc('Age')\n",
        "# print(indexAge)\n",
        "\n",
        "# print(x[:,[4]])\n",
        "# check empty cell\n",
        "# df.isna().sum()\n",
        "# df.info()\n",
        "# df.head()\n",
        "\n",
        "# from sklearn.impute import SimpleImputer\n",
        "# imputer = SimpleImputer(missing_values = np.nan, strategy = 'mean')\n",
        "# imputer = imputer.fit(x[:, [4]])\n",
        "# x[:, [4]] = imputer.transform(x[:, [4]])\n",
        "# print(x[:,[4]])\n",
        "\n",
        "women = df.loc[df[\"Sex\"] == \"female\", \"Survived\"]\n",
        "rate_women = sum(women)/len(women)\n",
        "\n",
        "print(\"% of women who survived:\", rate_women)\n"
      ]
    },
    {
      "cell_type": "code",
      "source": [],
      "metadata": {
        "id": "esAESw30PgtI"
      },
      "execution_count": 8,
      "outputs": []
    }
  ]
}